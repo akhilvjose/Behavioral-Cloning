{
  "nbformat": 4,
  "nbformat_minor": 0,
  "metadata": {
    "colab": {
      "name": "Behavioral_Cloning.ipynb",
      "version": "0.3.2",
      "provenance": [],
      "collapsed_sections": [],
      "include_colab_link": true
    },
    "kernelspec": {
      "name": "python3",
      "display_name": "Python 3"
    },
    "accelerator": "GPU"
  },
  "cells": [
    {
      "cell_type": "markdown",
      "metadata": {
        "id": "view-in-github",
        "colab_type": "text"
      },
      "source": [
        "<a href=\"https://colab.research.google.com/github/akhilvjose/Behavioral-Cloning/blob/master/Behavioral_Cloning.ipynb\" target=\"_parent\"><img src=\"https://colab.research.google.com/assets/colab-badge.svg\" alt=\"Open In Colab\"/></a>"
      ]
    },
    {
      "metadata": {
        "id": "nRLigMnl1_XD",
        "colab_type": "code",
        "outputId": "810af2b3-39ed-44f2-bdc2-b8df730be3e3",
        "colab": {
          "base_uri": "https://localhost:8080/",
          "height": 158
        }
      },
      "cell_type": "code",
      "source": [
        "!pip install wget"
      ],
      "execution_count": 0,
      "outputs": [
        {
          "output_type": "stream",
          "text": [
            "Collecting wget\n",
            "  Downloading https://files.pythonhosted.org/packages/47/6a/62e288da7bcda82b935ff0c6cfe542970f04e29c756b0e147251b2fb251f/wget-3.2.zip\n",
            "Building wheels for collected packages: wget\n",
            "  Running setup.py bdist_wheel for wget ... \u001b[?25l-\b \bdone\n",
            "\u001b[?25h  Stored in directory: /root/.cache/pip/wheels/40/15/30/7d8f7cea2902b4db79e3fea550d7d7b85ecb27ef992b618f3f\n",
            "Successfully built wget\n",
            "Installing collected packages: wget\n",
            "Successfully installed wget-3.2\n"
          ],
          "name": "stdout"
        }
      ]
    },
    {
      "metadata": {
        "id": "a0PJKKNHjp1-",
        "colab_type": "code",
        "colab": {}
      },
      "cell_type": "code",
      "source": [
        "import wget\n",
        "import zipfile\n"
      ],
      "execution_count": 0,
      "outputs": []
    },
    {
      "metadata": {
        "id": "2MjrI28CkH5c",
        "colab_type": "code",
        "outputId": "caab6262-75f2-44aa-bea3-3b1b63eb439c",
        "colab": {
          "base_uri": "https://localhost:8080/",
          "height": 34
        }
      },
      "cell_type": "code",
      "source": [
        "wget.download(\"https://d17h27t6h515a5.cloudfront.net/topher/2016/December/584f6edd_data/data.zip\")\n"
      ],
      "execution_count": 0,
      "outputs": [
        {
          "output_type": "execute_result",
          "data": {
            "text/plain": [
              "'data.zip'"
            ]
          },
          "metadata": {
            "tags": []
          },
          "execution_count": 5
        }
      ]
    },
    {
      "metadata": {
        "id": "M6NRNx35kRjY",
        "colab_type": "code",
        "colab": {}
      },
      "cell_type": "code",
      "source": [
        "with zipfile.ZipFile('data.zip', 'r') as zip_ref:\n",
        "  zip_ref.extractall('data')"
      ],
      "execution_count": 0,
      "outputs": []
    },
    {
      "metadata": {
        "id": "joS9YZEKSBR6",
        "colab_type": "text"
      },
      "cell_type": "markdown",
      "source": [
        ""
      ]
    },
    {
      "metadata": {
        "id": "4XVc24nAs27D",
        "colab_type": "code",
        "colab": {}
      },
      "cell_type": "code",
      "source": [
        "#!git clone https://github.com/rslim087a/track.git"
      ],
      "execution_count": 0,
      "outputs": []
    },
    {
      "metadata": {
        "id": "B8xOaHyrtImE",
        "colab_type": "code",
        "outputId": "d9de4f38-4174-4626-9dcb-b051ce890e04",
        "colab": {
          "base_uri": "https://localhost:8080/",
          "height": 34
        }
      },
      "cell_type": "code",
      "source": [
        "!ls data/data\n"
      ],
      "execution_count": 0,
      "outputs": [
        {
          "output_type": "stream",
          "text": [
            "driving_log.csv  IMG\n"
          ],
          "name": "stdout"
        }
      ]
    },
    {
      "metadata": {
        "id": "4r7-q8d8vV1X",
        "colab_type": "code",
        "colab": {}
      },
      "cell_type": "code",
      "source": [
        "import tensorflow as tf\n",
        "from keras.models import Sequential, model_from_json, load_model\n",
        "from keras.layers import Dense, Activation, Flatten, Dropout, Lambda, Cropping2D, ELU\n",
        "from keras.layers.convolutional import Convolution2D\n",
        "from scipy.misc import imread, imsave\n",
        "from sklearn.model_selection import train_test_split\n",
        "\n",
        "import pandas as pd\n",
        "import numpy as np\n",
        "import random\n"
      ],
      "execution_count": 0,
      "outputs": []
    },
    {
      "metadata": {
        "id": "CPCqBPBa2Bs1",
        "colab_type": "code",
        "colab": {}
      },
      "cell_type": "code",
      "source": [
        "def get_image(csv_line, data):\n",
        "  positions=['left','center','right']\n",
        "  corrections=[0.25, 0 ,-0.25] \n",
        "  index = data.index[csv_line]\n",
        "  r=random.choice([0,1,2])\n",
        "  measurement = data['steering'][index]+corrections[r]\n",
        "  path = PATH + data[positions[r]][index][1:]\n",
        "  if r == 1: path = PATH + data[positions[r]][index]\n",
        "  image = imread(path)\n",
        "  if random.random() > 0.5:\n",
        "    image, measurement = np.fliplr(image), -measurement\n",
        "  return image, measurement"
      ],
      "execution_count": 0,
      "outputs": []
    },
    {
      "metadata": {
        "id": "sICWLDyRBNxG",
        "colab_type": "code",
        "colab": {}
      },
      "cell_type": "code",
      "source": [
        "def generate_samples(csv_data, batch_size):\n",
        "\n",
        "  while True:\n",
        "\n",
        "    num_data = len(csv_data)\n",
        "    #csv_data.sample(frac=1)\n",
        "    # itrate through batches\n",
        "    for start in range(0, num_data, batch_size):\n",
        "      images, measurements = [], []\n",
        "      # itrate inside the batch\n",
        "      for csv_line in range(start, start + batch_size):\n",
        "        if csv_line < num_data:\n",
        "          image, measurement = get_image(csv_line, csv_data)\n",
        "          measurements.append(measurement)\n",
        "          images.append(image)\n",
        "\n",
        "      yield np.array(images), np.array(measurements)\n"
      ],
      "execution_count": 0,
      "outputs": []
    },
    {
      "metadata": {
        "id": "j5WpKjRPHjRv",
        "colab_type": "code",
        "colab": {}
      },
      "cell_type": "code",
      "source": [
        ""
      ],
      "execution_count": 0,
      "outputs": []
    },
    {
      "metadata": {
        "id": "kGcFVPXEBQ-0",
        "colab_type": "code",
        "outputId": "b57db2b0-4bde-4f98-b2b7-d4b554785a5e",
        "colab": {
          "base_uri": "https://localhost:8080/",
          "height": 852
        }
      },
      "cell_type": "code",
      "source": [
        "model = Sequential()\n",
        "\n",
        "model.add(Lambda(lambda x: (x / 255) - 0.5, input_shape = (160, 320, 3)))\n",
        "model.add(Cropping2D(cropping=((70, 25), (0, 0)), input_shape = (160, 320, 3)))\n",
        "model.add(Convolution2D(16, 8, 8, subsample = (4, 4), border_mode = \"same\"))\n",
        "model.add(ELU())\n",
        "model.add(Convolution2D(32, 5, 5, subsample = (2, 2), border_mode = \"same\"))\n",
        "model.add(ELU())\n",
        "model.add(Convolution2D(32, 5, 5, subsample = (2, 2), border_mode = \"same\"))\n",
        "model.add(ELU())\n",
        "model.add(Convolution2D(64, 5, 5, subsample = (2, 2), border_mode = \"same\"))\n",
        "model.add(Flatten())\n",
        "model.add(Dropout(.2))\n",
        "model.add(ELU())\n",
        "model.add(Dense(512))\n",
        "model.add(Dropout(.5))\n",
        "model.add(ELU())\n",
        "model.add(Dense(1))\n",
        "\n",
        "model.summary()\n",
        "model.compile(optimizer = \"adam\", loss = \"mse\")"
      ],
      "execution_count": 0,
      "outputs": [
        {
          "output_type": "stream",
          "text": [
            "/usr/local/lib/python3.6/dist-packages/ipykernel_launcher.py:5: UserWarning: Update your `Conv2D` call to the Keras 2 API: `Conv2D(16, (8, 8), strides=(4, 4), padding=\"same\")`\n",
            "  \"\"\"\n",
            "/usr/local/lib/python3.6/dist-packages/ipykernel_launcher.py:7: UserWarning: Update your `Conv2D` call to the Keras 2 API: `Conv2D(32, (5, 5), strides=(2, 2), padding=\"same\")`\n",
            "  import sys\n",
            "/usr/local/lib/python3.6/dist-packages/ipykernel_launcher.py:9: UserWarning: Update your `Conv2D` call to the Keras 2 API: `Conv2D(32, (5, 5), strides=(2, 2), padding=\"same\")`\n",
            "  if __name__ == '__main__':\n",
            "/usr/local/lib/python3.6/dist-packages/ipykernel_launcher.py:11: UserWarning: Update your `Conv2D` call to the Keras 2 API: `Conv2D(64, (5, 5), strides=(2, 2), padding=\"same\")`\n",
            "  # This is added back by InteractiveShellApp.init_path()\n"
          ],
          "name": "stderr"
        },
        {
          "output_type": "stream",
          "text": [
            "_________________________________________________________________\n",
            "Layer (type)                 Output Shape              Param #   \n",
            "=================================================================\n",
            "lambda_2 (Lambda)            (None, 160, 320, 3)       0         \n",
            "_________________________________________________________________\n",
            "cropping2d_2 (Cropping2D)    (None, 65, 320, 3)        0         \n",
            "_________________________________________________________________\n",
            "conv2d_4 (Conv2D)            (None, 17, 80, 16)        3088      \n",
            "_________________________________________________________________\n",
            "elu_5 (ELU)                  (None, 17, 80, 16)        0         \n",
            "_________________________________________________________________\n",
            "conv2d_5 (Conv2D)            (None, 9, 40, 32)         12832     \n",
            "_________________________________________________________________\n",
            "elu_6 (ELU)                  (None, 9, 40, 32)         0         \n",
            "_________________________________________________________________\n",
            "conv2d_6 (Conv2D)            (None, 5, 20, 32)         25632     \n",
            "_________________________________________________________________\n",
            "elu_7 (ELU)                  (None, 5, 20, 32)         0         \n",
            "_________________________________________________________________\n",
            "conv2d_7 (Conv2D)            (None, 3, 10, 64)         51264     \n",
            "_________________________________________________________________\n",
            "flatten_2 (Flatten)          (None, 1920)              0         \n",
            "_________________________________________________________________\n",
            "dropout_3 (Dropout)          (None, 1920)              0         \n",
            "_________________________________________________________________\n",
            "elu_8 (ELU)                  (None, 1920)              0         \n",
            "_________________________________________________________________\n",
            "dense_3 (Dense)              (None, 512)               983552    \n",
            "_________________________________________________________________\n",
            "dropout_4 (Dropout)          (None, 512)               0         \n",
            "_________________________________________________________________\n",
            "elu_9 (ELU)                  (None, 512)               0         \n",
            "_________________________________________________________________\n",
            "dense_4 (Dense)              (None, 1)                 513       \n",
            "=================================================================\n",
            "Total params: 1,076,881\n",
            "Trainable params: 1,076,881\n",
            "Non-trainable params: 0\n",
            "_________________________________________________________________\n"
          ],
          "name": "stdout"
        }
      ]
    },
    {
      "metadata": {
        "id": "BqwD5asSBURS",
        "colab_type": "code",
        "outputId": "0c31fc12-bf90-4fbb-cebf-f4bc47dc390b",
        "colab": {
          "base_uri": "https://localhost:8080/",
          "height": 197
        }
      },
      "cell_type": "code",
      "source": [
        "batch_size = 64\n",
        "epochs = 2\n",
        "PATH = \"data/data/\"\n",
        "csv_name = \"driving_log.csv\"\n",
        "\n",
        "X_data = pd.read_csv(PATH + csv_name, usecols = [0, 1, 2, 3])\n",
        "\n",
        "X_train, X_valid = train_test_split(X_data, test_size = 0.15)\n",
        "num_train = len(X_train)\n",
        "num_valid = len(X_valid)\n",
        "X_data.head()"
      ],
      "execution_count": 0,
      "outputs": [
        {
          "output_type": "execute_result",
          "data": {
            "text/html": [
              "<div>\n",
              "<style scoped>\n",
              "    .dataframe tbody tr th:only-of-type {\n",
              "        vertical-align: middle;\n",
              "    }\n",
              "\n",
              "    .dataframe tbody tr th {\n",
              "        vertical-align: top;\n",
              "    }\n",
              "\n",
              "    .dataframe thead th {\n",
              "        text-align: right;\n",
              "    }\n",
              "</style>\n",
              "<table border=\"1\" class=\"dataframe\">\n",
              "  <thead>\n",
              "    <tr style=\"text-align: right;\">\n",
              "      <th></th>\n",
              "      <th>center</th>\n",
              "      <th>left</th>\n",
              "      <th>right</th>\n",
              "      <th>steering</th>\n",
              "    </tr>\n",
              "  </thead>\n",
              "  <tbody>\n",
              "    <tr>\n",
              "      <th>0</th>\n",
              "      <td>IMG/center_2016_12_01_13_30_48_287.jpg</td>\n",
              "      <td>IMG/left_2016_12_01_13_30_48_287.jpg</td>\n",
              "      <td>IMG/right_2016_12_01_13_30_48_287.jpg</td>\n",
              "      <td>0.0</td>\n",
              "    </tr>\n",
              "    <tr>\n",
              "      <th>1</th>\n",
              "      <td>IMG/center_2016_12_01_13_30_48_404.jpg</td>\n",
              "      <td>IMG/left_2016_12_01_13_30_48_404.jpg</td>\n",
              "      <td>IMG/right_2016_12_01_13_30_48_404.jpg</td>\n",
              "      <td>0.0</td>\n",
              "    </tr>\n",
              "    <tr>\n",
              "      <th>2</th>\n",
              "      <td>IMG/center_2016_12_01_13_31_12_937.jpg</td>\n",
              "      <td>IMG/left_2016_12_01_13_31_12_937.jpg</td>\n",
              "      <td>IMG/right_2016_12_01_13_31_12_937.jpg</td>\n",
              "      <td>0.0</td>\n",
              "    </tr>\n",
              "    <tr>\n",
              "      <th>3</th>\n",
              "      <td>IMG/center_2016_12_01_13_31_13_037.jpg</td>\n",
              "      <td>IMG/left_2016_12_01_13_31_13_037.jpg</td>\n",
              "      <td>IMG/right_2016_12_01_13_31_13_037.jpg</td>\n",
              "      <td>0.0</td>\n",
              "    </tr>\n",
              "    <tr>\n",
              "      <th>4</th>\n",
              "      <td>IMG/center_2016_12_01_13_31_13_177.jpg</td>\n",
              "      <td>IMG/left_2016_12_01_13_31_13_177.jpg</td>\n",
              "      <td>IMG/right_2016_12_01_13_31_13_177.jpg</td>\n",
              "      <td>0.0</td>\n",
              "    </tr>\n",
              "  </tbody>\n",
              "</table>\n",
              "</div>"
            ],
            "text/plain": [
              "                                   center  \\\n",
              "0  IMG/center_2016_12_01_13_30_48_287.jpg   \n",
              "1  IMG/center_2016_12_01_13_30_48_404.jpg   \n",
              "2  IMG/center_2016_12_01_13_31_12_937.jpg   \n",
              "3  IMG/center_2016_12_01_13_31_13_037.jpg   \n",
              "4  IMG/center_2016_12_01_13_31_13_177.jpg   \n",
              "\n",
              "                                    left  \\\n",
              "0   IMG/left_2016_12_01_13_30_48_287.jpg   \n",
              "1   IMG/left_2016_12_01_13_30_48_404.jpg   \n",
              "2   IMG/left_2016_12_01_13_31_12_937.jpg   \n",
              "3   IMG/left_2016_12_01_13_31_13_037.jpg   \n",
              "4   IMG/left_2016_12_01_13_31_13_177.jpg   \n",
              "\n",
              "                                    right  steering  \n",
              "0   IMG/right_2016_12_01_13_30_48_287.jpg       0.0  \n",
              "1   IMG/right_2016_12_01_13_30_48_404.jpg       0.0  \n",
              "2   IMG/right_2016_12_01_13_31_12_937.jpg       0.0  \n",
              "3   IMG/right_2016_12_01_13_31_13_037.jpg       0.0  \n",
              "4   IMG/right_2016_12_01_13_31_13_177.jpg       0.0  "
            ]
          },
          "metadata": {
            "tags": []
          },
          "execution_count": 7
        }
      ]
    },
    {
      "metadata": {
        "id": "jurODbJcwnpB",
        "colab_type": "code",
        "colab": {}
      },
      "cell_type": "code",
      "source": [
        ""
      ],
      "execution_count": 0,
      "outputs": []
    },
    {
      "metadata": {
        "id": "rT98_lOc0kR3",
        "colab_type": "code",
        "colab": {}
      },
      "cell_type": "code",
      "source": [
        "import matplotlib.pyplot as plt\n",
        "num_bins=25\n",
        "measurement = X_data['steering']\n",
        "hist,bins=np.histogram(measurement,num_bins)\n",
        "centered= (bins[-1]+bins[1:])*0.5\n",
        "plt.bar(centered,hist,width=0.03)"
      ],
      "execution_count": 0,
      "outputs": []
    },
    {
      "metadata": {
        "id": "V_GIe7kqBXVb",
        "colab_type": "code",
        "outputId": "46fd78a7-66ac-4dad-8b07-ad69901b7a55",
        "colab": {
          "base_uri": "https://localhost:8080/",
          "height": 267
        }
      },
      "cell_type": "code",
      "source": [
        "print('Training model...')\n",
        "\n",
        "training_generator = generate_samples(X_train, batch_size)\n",
        "validation_generator = generate_samples(X_valid, batch_size)\n",
        "\n",
        "\n",
        "\n",
        "history_object = model.fit_generator(training_generator,\n",
        "                 samples_per_epoch = num_train,\n",
        "                 validation_data = validation_generator,\n",
        "                 nb_val_samples = num_valid,\n",
        "                 nb_epoch = epochs,\n",
        "                 verbose = 1)"
      ],
      "execution_count": 0,
      "outputs": [
        {
          "output_type": "stream",
          "text": [
            "Training model...\n"
          ],
          "name": "stdout"
        },
        {
          "output_type": "stream",
          "text": [
            "/usr/local/lib/python3.6/dist-packages/ipykernel_launcher.py:13: UserWarning: The semantics of the Keras 2 argument `steps_per_epoch` is not the same as the Keras 1 argument `samples_per_epoch`. `steps_per_epoch` is the number of batches to draw from the generator at each epoch. Basically steps_per_epoch = samples_per_epoch/batch_size. Similarly `nb_val_samples`->`validation_steps` and `val_samples`->`steps` arguments have changed. Update your method calls accordingly.\n",
            "  del sys.path[0]\n",
            "/usr/local/lib/python3.6/dist-packages/ipykernel_launcher.py:13: UserWarning: Update your `fit_generator` call to the Keras 2 API: `fit_generator(<generator..., validation_data=<generator..., verbose=1, steps_per_epoch=6830, epochs=2, validation_steps=1206)`\n",
            "  del sys.path[0]\n"
          ],
          "name": "stderr"
        },
        {
          "output_type": "stream",
          "text": [
            "Epoch 1/2\n"
          ],
          "name": "stdout"
        },
        {
          "output_type": "stream",
          "text": [
            "/usr/local/lib/python3.6/dist-packages/ipykernel_launcher.py:9: DeprecationWarning: `imread` is deprecated!\n",
            "`imread` is deprecated in SciPy 1.0.0, and will be removed in 1.2.0.\n",
            "Use ``imageio.imread`` instead.\n",
            "  if __name__ == '__main__':\n"
          ],
          "name": "stderr"
        },
        {
          "output_type": "stream",
          "text": [
            "6830/6830 [==============================] - 997s 146ms/step - loss: 0.0209 - val_loss: 0.0218\n",
            "Epoch 2/2\n",
            "6830/6830 [==============================] - 984s 144ms/step - loss: 0.0146 - val_loss: 0.0185\n"
          ],
          "name": "stdout"
        }
      ]
    },
    {
      "metadata": {
        "id": "CZSdU7L1GM9A",
        "colab_type": "code",
        "colab": {}
      },
      "cell_type": "code",
      "source": [
        ""
      ],
      "execution_count": 0,
      "outputs": []
    }
  ]
}